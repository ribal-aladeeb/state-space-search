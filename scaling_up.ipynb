{
 "metadata": {
  "language_info": {
   "codemirror_mode": {
    "name": "ipython",
    "version": 3
   },
   "file_extension": ".py",
   "mimetype": "text/x-python",
   "name": "python",
   "nbconvert_exporter": "python",
   "pygments_lexer": "ipython3",
   "version": "3.8.5-final"
  },
  "orig_nbformat": 2,
  "kernelspec": {
   "name": "python37964bitcomp472conda08a0cdca8aba47ae8cc5996c3ea22fd5",
   "display_name": "Python 3.7.9 64-bit ('comp472': conda)"
  }
 },
 "nbformat": 4,
 "nbformat_minor": 2,
 "cells": [
  {
   "source": [
    "# Scaled up puzzles\n",
    "\n",
    "Our implmentation of the 8-puzzle game is made to accept any 2D puzzle shape so let's see how it performs when we scale up the puzzles. Let's generate 3x3 puzzle, a 4x4 puzzle, a 5x5 puzzle and try searching for a solution. We will not bother trying to perform uniform cost search on 5x5 as it could take more RAM than available on our local machines.\n"
   ],
   "cell_type": "markdown",
   "metadata": {}
  },
  {
   "source": [
    "import numpy as np\n",
    "from tqdm import tqdm\n",
    "import time\n",
    "import matplotlib.pyplot as plt\n",
    "import copy\n",
    "\n",
    "from board import Board\n",
    "from node import Node\n",
    "import search\n",
    "import heuristics"
   ],
   "cell_type": "code",
   "metadata": {},
   "execution_count": 83,
   "outputs": []
  },
  {
   "source": [
    "### Let's create a function to run any puzzle on any algorithm with a specified timeout\n",
    "\n",
    "we will choose manhattan distance as the heuristic because the our previous [analysis](https://github.com/ribal-aladeeb/state-space-search/blob/main/analysis.ipynb) has demonstrated that it is potentially our fasted heuristic."
   ],
   "cell_type": "markdown",
   "metadata": {}
  },
  {
   "cell_type": "code",
   "execution_count": 98,
   "metadata": {},
   "outputs": [],
   "source": [
    "def search_solution(puzzle, algo, timeout=60, heuristic_func=heuristics.manhattan_distance):\n",
    "    print(f'Puzzle {puzzle.shape[0]}x{puzzle.shape[1]}:')\n",
    "    print(puzzle)\n",
    "    print('Searching...')\n",
    "    \n",
    "    b = Board(puzzle)\n",
    "    result: dict\n",
    "\n",
    "    if algo == 'A*':\n",
    "        result = search.a_star(b ,H=heuristic_func, timeout=timeout)\n",
    "    \n",
    "    elif algo == 'GBF':\n",
    "        result = search.greedy_best_first(b ,H=heuristic_func, timeout=timeout)\n",
    "    \n",
    "    elif algo == 'UCS':\n",
    "        result = search.uniform_cost(b, timeout=timeout)\n",
    "    \n",
    "    else:\n",
    "        result = {'success': False, 'message': f'{algo} is not a valid argument position'}\n",
    "        print(result['message'])\n",
    "    \n",
    "    \n",
    "    if result['success']:        \n",
    "        print(f'Solution found in {round(result[\"runtime\"],2)} seconds')\n",
    "    else:\n",
    "        print(result['message'])\n",
    "\n",
    "    solution_path_length = 1\n",
    "    node = result['current_node']\n",
    "\n",
    "    while node.parent != None:\n",
    "        solution_path_length += 1\n",
    "        node = node.parent\n",
    "    \n",
    "    final_msg = f'Length of solution path: {solution_path_length}\\n'\n",
    "    final_msg += f'Cost: {result[\"current_node\"].total_cost}\\n'\n",
    "\n",
    "    print(final_msg)\n",
    "\n",
    "    return result\n",
    "    "
   ]
  },
  {
   "source": [
    "### Let's generate some random puzzles"
   ],
   "cell_type": "markdown",
   "metadata": {}
  },
  {
   "cell_type": "code",
   "execution_count": 89,
   "metadata": {},
   "outputs": [
    {
     "output_type": "stream",
     "name": "stdout",
     "text": [
      "Here are the random puzzles we generated:\n\n[[3 4 6]\n [2 8 0]\n [1 5 7]]\n\n[[ 5  1  0  3]\n [ 6 11 10  2]\n [ 4  8  9 15]\n [14 13  7 12]]\n\n[[12 22 18 16 11]\n [ 4  5 20 13  1]\n [15  3 17  0  7]\n [10 19  8 14  2]\n [23  6  9 24 21]]\n\n[[30 21 15  8 14 26]\n [ 1 24 29  4 19  0]\n [33  5 34  2 32 20]\n [10 13  7  6 31 28]\n [11  3 22 18 23 12]\n [16 27  9 25 35 17]]\n\n"
     ]
    }
   ],
   "source": [
    "np.random.seed(4)\n",
    "puzzle3 = np.random.permutation(3*3).reshape(3,3)\n",
    "puzzle4 = np.random.permutation(4*4).reshape(4,4)\n",
    "puzzle5 = np.random.permutation(5*5).reshape(5,5)\n",
    "puzzle6 = np.random.permutation(6*6).reshape(6,6)\n",
    "\n",
    "puzzles = [puzzle3, puzzle4, puzzle5, puzzle6]\n",
    "print('Here are the random puzzles we generated:\\n')\n",
    "for p in puzzles:\n",
    "    print(p)\n",
    "    print()"
   ]
  },
  {
   "source": [
    "#### We expect GBF to convert relatively quickly even for very large search spaces (like 6x6 puzzle)\n",
    "\n",
    "Therefore we will run GBF on all of these puzzles first to make sure that at the very least we can get to 6x6 using GBF. If all puzzles converge within a minute, we will try A*."
   ],
   "cell_type": "markdown",
   "metadata": {}
  },
  {
   "source": [
    "## Greedy Best First Search\n"
   ],
   "cell_type": "markdown",
   "metadata": {}
  },
  {
   "cell_type": "code",
   "execution_count": 90,
   "metadata": {},
   "outputs": [
    {
     "output_type": "stream",
     "name": "stdout",
     "text": [
      "Puzzle 3x3:\n",
      "[[3 4 6]\n",
      " [2 8 0]\n",
      " [1 5 7]]\n",
      "Solution found in 0.01 seconds\n",
      "Length of solution path: 10\n",
      "Cost: 14\n",
      "\n",
      "\n",
      "Puzzle 4x4:\n",
      "[[ 5  1  0  3]\n",
      " [ 6 11 10  2]\n",
      " [ 4  8  9 15]\n",
      " [14 13  7 12]]\n",
      "Solution found in 2.06 seconds\n",
      "Length of solution path: 97\n",
      "Cost: 126\n",
      "\n",
      "\n",
      "Puzzle 5x5:\n",
      "[[12 22 18 16 11]\n",
      " [ 4  5 20 13  1]\n",
      " [15  3 17  0  7]\n",
      " [10 19  8 14  2]\n",
      " [23  6  9 24 21]]\n",
      "Solution found in 13.53 seconds\n",
      "Length of solution path: 250\n",
      "Cost: 297\n",
      "\n",
      "\n",
      "Puzzle 6x6:\n",
      "[[30 21 15  8 14 26]\n",
      " [ 1 24 29  4 19  0]\n",
      " [33  5 34  2 32 20]\n",
      " [10 13  7  6 31 28]\n",
      " [11  3 22 18 23 12]\n",
      " [16 27  9 25 35 17]]\n",
      "timeout after 60 seconds\n",
      "Length of solution path: 430\n",
      "Cost: 476\n",
      "\n",
      "No point of searching through larger puzzles given the current timeout\n",
      "\n"
     ]
    }
   ],
   "source": [
    "for p in puzzles:\n",
    "    result = search_solution(p, 'GBF', timeout=60)\n",
    "    \n",
    "    if 'timeout' in result['message']:\n",
    "        print('No point of searching through larger puzzles given the current timeout\\n')\n",
    "        break\n",
    "    \n",
    "    print()"
   ]
  },
  {
   "source": [
    "### Assumption proven wrong\n",
    "#### It seems like GBF times out on this 6x6 puzzle after 1 minute, we can try setting the timeout to 5 min and see if we can find a solution"
   ],
   "cell_type": "markdown",
   "metadata": {}
  },
  {
   "cell_type": "code",
   "execution_count": 91,
   "metadata": {},
   "outputs": [
    {
     "output_type": "stream",
     "name": "stdout",
     "text": [
      "Puzzle 6x6:\n",
      "[[30 21 15  8 14 26]\n",
      " [ 1 24 29  4 19  0]\n",
      " [33  5 34  2 32 20]\n",
      " [10 13  7  6 31 28]\n",
      " [11  3 22 18 23 12]\n",
      " [16 27  9 25 35 17]]\n",
      "timeout after 300 seconds\n",
      "Length of solution path: 409\n",
      "Cost: 455\n",
      "\n"
     ]
    }
   ],
   "source": [
    "_ = search_solution(puzzle6, 'GBF', timeout=5*60)"
   ]
  },
  {
   "source": [
    "## Given what we know about GBF and its runtimes, Let's try A*\n",
    "We will first try 1 minute timeouts to see what we can achieve. Our intuition is that A* will not be able to beat the runtimes of Greedy Best First and might possibly timeout on the 5x5 puzzle."
   ],
   "cell_type": "markdown",
   "metadata": {}
  },
  {
   "cell_type": "code",
   "execution_count": 92,
   "metadata": {},
   "outputs": [
    {
     "output_type": "stream",
     "name": "stdout",
     "text": [
      "Puzzle 3x3:\n",
      "[[3 4 6]\n",
      " [2 8 0]\n",
      " [1 5 7]]\n",
      "Solution found in 0.19 seconds\n",
      "Length of solution path: 12\n",
      "Cost: 13\n",
      "\n",
      "\n",
      "Puzzle 4x4:\n",
      "[[ 5  1  0  3]\n",
      " [ 6 11 10  2]\n",
      " [ 4  8  9 15]\n",
      " [14 13  7 12]]\n",
      "timeout after 60 seconds\n",
      "Length of solution path: 14\n",
      "Cost: 16\n",
      "\n",
      "No point of searching through larger puzzles given the current timeout\n",
      "\n"
     ]
    }
   ],
   "source": [
    "for p in puzzles:\n",
    "    result = search_solution(p, 'A*', timeout=60)\n",
    "    \n",
    "    if 'timeout' in result['message']:\n",
    "        print('No point of searching through larger puzzles given the current timeout\\n')\n",
    "        break\n",
    "\n",
    "    print()"
   ]
  },
  {
   "source": [
    "#### A* timed-out on the 4x4 puzzle, which is sort of disappointing but kind of expected. let's see if we can do better with a 3 minute timeout\n"
   ],
   "cell_type": "markdown",
   "metadata": {}
  },
  {
   "cell_type": "code",
   "execution_count": 95,
   "metadata": {},
   "outputs": [
    {
     "output_type": "stream",
     "name": "stdout",
     "text": [
      "Puzzle 4x4:\n",
      "[[ 5  1  0  3]\n",
      " [ 6 11 10  2]\n",
      " [ 4  8  9 15]\n",
      " [14 13  7 12]]\n",
      "Searching...\n",
      "timeout after 300 seconds\n",
      "Length of solution path: 16\n",
      "Cost: 20\n",
      "\n"
     ]
    }
   ],
   "source": [
    "_ = search_solution(puzzle4, 'A*', timeout=5*60)"
   ]
  },
  {
   "source": [
    "### Well that was disappointing but understandable:\n",
    "We are using manhattan distance as our heuristic, which is admissible. This means the range of values that H(n) can take for any n is always between 0 and h(n). With such a small domain, the function has a theoretical limit for how informative it can be. There's no free lunch, if you want to shave through the search space you need a more informative heuristic and that most probably means sacrificing admissibility (i.e you can no longer garantee that the search would yield the smallest cost path)."
   ],
   "cell_type": "markdown",
   "metadata": {}
  },
  {
   "source": [
    "#### Let's try running A with an unadmissible heuristic (the algorithm is no longer A*)\n",
    "We will use [permutation inversions](https://mathworld.wolfram.com/PermutationInversion.html). In our [heuristic analysis](https://github.com/ribal-aladeeb/state-space-search/blob/main/analysis.ipynb), we found that permutation inversions are the second best heuristic in terms of runtime (after manhattan distance of course). Maybe it is the case that with scaled up puzzles, inversions will be able to find a solution fast enough."
   ],
   "cell_type": "markdown",
   "metadata": {}
  },
  {
   "cell_type": "code",
   "execution_count": null,
   "metadata": {},
   "outputs": [],
   "source": []
  },
  {
   "source": [
    "## Now Uniform Cost Search\n",
    "We have low expectation for UCS, its runtimes are orders of magnitude larger than heuristic search so we expect it will timeout on the 4x4 puzzle."
   ],
   "cell_type": "markdown",
   "metadata": {}
  },
  {
   "cell_type": "code",
   "execution_count": 96,
   "metadata": {},
   "outputs": [
    {
     "output_type": "stream",
     "name": "stdout",
     "text": [
      "Puzzle 3x3:\n",
      "[[3 4 6]\n",
      " [2 8 0]\n",
      " [1 5 7]]\n",
      "Searching...\n",
      "Solution found in 15.47 seconds\n",
      "Length of solution path: 12\n",
      "Cost: 13\n",
      "\n",
      "\n",
      "Puzzle 4x4:\n",
      "[[ 5  1  0  3]\n",
      " [ 6 11 10  2]\n",
      " [ 4  8  9 15]\n",
      " [14 13  7 12]]\n",
      "Searching...\n",
      "timeout after 60 seconds\n",
      "Length of solution path: 12\n",
      "Cost: 14\n",
      "\n",
      "No point of searching through larger puzzles given the current timeout\n",
      "\n"
     ]
    }
   ],
   "source": [
    "for p in puzzles:\n",
    "    result = search_solution(p, 'UCS', timeout=60)\n",
    "    \n",
    "    if 'timeout' in result['message']:\n",
    "        print('No point of searching through larger puzzles given the current timeout\\n')\n",
    "        break\n",
    "\n",
    "    print()"
   ]
  },
  {
   "source": [
    "### No surprise here\n",
    "Well, as expected, UCS timed-out on the 4x4 puzzle (uninformed search sucks)."
   ],
   "cell_type": "markdown",
   "metadata": {}
  }
 ]
}